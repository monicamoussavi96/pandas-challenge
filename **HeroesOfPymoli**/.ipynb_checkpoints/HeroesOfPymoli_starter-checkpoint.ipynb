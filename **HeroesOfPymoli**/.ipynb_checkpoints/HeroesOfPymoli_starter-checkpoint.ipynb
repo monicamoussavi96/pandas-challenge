{
 "cells": [
  {
   "cell_type": "markdown",
   "metadata": {},
   "source": [
    "### Note\n",
    "* Instructions have been included for each segment. You do not have to follow them exactly, but they are included to help you think through the steps."
   ]
  },
  {
   "cell_type": "code",
   "execution_count": 102,
   "metadata": {},
   "outputs": [
    {
     "data": {
      "text/html": [
       "<div>\n",
       "<style scoped>\n",
       "    .dataframe tbody tr th:only-of-type {\n",
       "        vertical-align: middle;\n",
       "    }\n",
       "\n",
       "    .dataframe tbody tr th {\n",
       "        vertical-align: top;\n",
       "    }\n",
       "\n",
       "    .dataframe thead th {\n",
       "        text-align: right;\n",
       "    }\n",
       "</style>\n",
       "<table border=\"1\" class=\"dataframe\">\n",
       "  <thead>\n",
       "    <tr style=\"text-align: right;\">\n",
       "      <th></th>\n",
       "      <th>Purchase ID</th>\n",
       "      <th>SN</th>\n",
       "      <th>Age</th>\n",
       "      <th>Gender</th>\n",
       "      <th>Item ID</th>\n",
       "      <th>Item Name</th>\n",
       "      <th>Price</th>\n",
       "    </tr>\n",
       "  </thead>\n",
       "  <tbody>\n",
       "    <tr>\n",
       "      <td>0</td>\n",
       "      <td>0</td>\n",
       "      <td>Lisim78</td>\n",
       "      <td>20</td>\n",
       "      <td>Male</td>\n",
       "      <td>108</td>\n",
       "      <td>Extraction, Quickblade Of Trembling Hands</td>\n",
       "      <td>3.53</td>\n",
       "    </tr>\n",
       "    <tr>\n",
       "      <td>1</td>\n",
       "      <td>1</td>\n",
       "      <td>Lisovynya38</td>\n",
       "      <td>40</td>\n",
       "      <td>Male</td>\n",
       "      <td>143</td>\n",
       "      <td>Frenzied Scimitar</td>\n",
       "      <td>1.56</td>\n",
       "    </tr>\n",
       "    <tr>\n",
       "      <td>2</td>\n",
       "      <td>2</td>\n",
       "      <td>Ithergue48</td>\n",
       "      <td>24</td>\n",
       "      <td>Male</td>\n",
       "      <td>92</td>\n",
       "      <td>Final Critic</td>\n",
       "      <td>4.88</td>\n",
       "    </tr>\n",
       "    <tr>\n",
       "      <td>3</td>\n",
       "      <td>3</td>\n",
       "      <td>Chamassasya86</td>\n",
       "      <td>24</td>\n",
       "      <td>Male</td>\n",
       "      <td>100</td>\n",
       "      <td>Blindscythe</td>\n",
       "      <td>3.27</td>\n",
       "    </tr>\n",
       "    <tr>\n",
       "      <td>4</td>\n",
       "      <td>4</td>\n",
       "      <td>Iskosia90</td>\n",
       "      <td>23</td>\n",
       "      <td>Male</td>\n",
       "      <td>131</td>\n",
       "      <td>Fury</td>\n",
       "      <td>1.44</td>\n",
       "    </tr>\n",
       "  </tbody>\n",
       "</table>\n",
       "</div>"
      ],
      "text/plain": [
       "   Purchase ID             SN  Age Gender  Item ID  \\\n",
       "0            0        Lisim78   20   Male      108   \n",
       "1            1    Lisovynya38   40   Male      143   \n",
       "2            2     Ithergue48   24   Male       92   \n",
       "3            3  Chamassasya86   24   Male      100   \n",
       "4            4      Iskosia90   23   Male      131   \n",
       "\n",
       "                                   Item Name  Price  \n",
       "0  Extraction, Quickblade Of Trembling Hands   3.53  \n",
       "1                          Frenzied Scimitar   1.56  \n",
       "2                               Final Critic   4.88  \n",
       "3                                Blindscythe   3.27  \n",
       "4                                       Fury   1.44  "
      ]
     },
     "execution_count": 102,
     "metadata": {},
     "output_type": "execute_result"
    }
   ],
   "source": [
    "# Dependencies and Setup\n",
    "import pandas as pd\n",
    "import numpy as np\n",
    "\n",
    "# File to Load \n",
    "purchase_data = \"/Users/monicamoussavi/pandas-challenge/**HeroesOfPymoli**/purchase_data.csv\"\n",
    "\n",
    "# Read Purchasing File and store into Pandas data frame\n",
    "purchase_data = pd.read_csv(purchase_data)\n",
    "purchase_data.head()"
   ]
  },
  {
   "cell_type": "markdown",
   "metadata": {},
   "source": [
    "## Player Count"
   ]
  },
  {
   "cell_type": "markdown",
   "metadata": {},
   "source": [
    "* Display the total number of players\n"
   ]
  },
  {
   "cell_type": "code",
   "execution_count": 146,
   "metadata": {},
   "outputs": [
    {
     "data": {
      "text/html": [
       "<div>\n",
       "<style scoped>\n",
       "    .dataframe tbody tr th:only-of-type {\n",
       "        vertical-align: middle;\n",
       "    }\n",
       "\n",
       "    .dataframe tbody tr th {\n",
       "        vertical-align: top;\n",
       "    }\n",
       "\n",
       "    .dataframe thead th {\n",
       "        text-align: right;\n",
       "    }\n",
       "</style>\n",
       "<table border=\"1\" class=\"dataframe\">\n",
       "  <thead>\n",
       "    <tr style=\"text-align: right;\">\n",
       "      <th></th>\n",
       "      <th>Total Players</th>\n",
       "    </tr>\n",
       "  </thead>\n",
       "  <tbody>\n",
       "    <tr>\n",
       "      <td>0</td>\n",
       "      <td>576</td>\n",
       "    </tr>\n",
       "  </tbody>\n",
       "</table>\n",
       "</div>"
      ],
      "text/plain": [
       "   Total Players\n",
       "0            576"
      ]
     },
     "execution_count": 146,
     "metadata": {},
     "output_type": "execute_result"
    }
   ],
   "source": [
    "#Find total players using value_counts to only count unique values\n",
    "\n",
    "# Total Number of Players\n",
    "total_players = len(purchase_data[\"SN\"].unique())\n",
    "total_players\n",
    "\n",
    "# Create Summary DataFrame\n",
    "player_count_table = pd.DataFrame({\"Total Players\": [total_players]})\n",
    "player_count_table"
   ]
  },
  {
   "cell_type": "markdown",
   "metadata": {},
   "source": [
    "## Purchasing Analysis (Total)"
   ]
  },
  {
   "cell_type": "markdown",
   "metadata": {},
   "source": [
    "* Run basic calculations to obtain number of unique items, average price, etc.\n",
    "\n",
    "\n",
    "* Create a summary data frame to hold the results\n",
    "\n",
    "\n",
    "* Optional: give the displayed data cleaner formatting\n",
    "\n",
    "\n",
    "* Display the summary data frame\n"
   ]
  },
  {
   "cell_type": "code",
   "execution_count": 104,
   "metadata": {
    "scrolled": true
   },
   "outputs": [
    {
     "data": {
      "text/plain": [
       "183"
      ]
     },
     "execution_count": 104,
     "metadata": {},
     "output_type": "execute_result"
    }
   ],
   "source": [
    "#Find total number of unique items \n",
    "unique_items=purchase_data['Item ID'].nunique()\n",
    "unique_items\n"
   ]
  },
  {
   "cell_type": "code",
   "execution_count": 105,
   "metadata": {},
   "outputs": [
    {
     "data": {
      "text/plain": [
       "3.05"
      ]
     },
     "execution_count": 105,
     "metadata": {},
     "output_type": "execute_result"
    }
   ],
   "source": [
    "#Find average price of items\n",
    "average_price=round(purchase_data['Price'].mean(),2)\n",
    "average_price"
   ]
  },
  {
   "cell_type": "code",
   "execution_count": 106,
   "metadata": {},
   "outputs": [
    {
     "data": {
      "text/plain": [
       "780"
      ]
     },
     "execution_count": 106,
     "metadata": {},
     "output_type": "execute_result"
    }
   ],
   "source": [
    "#Find total amount of purchases \n",
    "purchase_number=purchase_data['Purchase ID'].count()\n",
    "purchase_number"
   ]
  },
  {
   "cell_type": "code",
   "execution_count": 107,
   "metadata": {},
   "outputs": [
    {
     "data": {
      "text/plain": [
       "2379.77"
      ]
     },
     "execution_count": 107,
     "metadata": {},
     "output_type": "execute_result"
    }
   ],
   "source": [
    "#Find total revenue \n",
    "total_revenue = round(purchase_data['Price'].sum(),2)\n",
    "total_revenue "
   ]
  },
  {
   "cell_type": "markdown",
   "metadata": {},
   "source": [
    "## Gender Demographics"
   ]
  },
  {
   "cell_type": "code",
   "execution_count": 108,
   "metadata": {},
   "outputs": [
    {
     "data": {
      "text/html": [
       "<style  type=\"text/css\" >\n",
       "</style><table id=\"T_a6a46ec6_357c_11ea_8a7c_a45e60d37e95\" ><thead>    <tr>        <th class=\"col_heading level0 col0\" >Number of Unique Items</th>        <th class=\"col_heading level0 col1\" >Average Price</th>        <th class=\"col_heading level0 col2\" >Number of Purchases</th>        <th class=\"col_heading level0 col3\" >Total Revenue</th>    </tr></thead><tbody>\n",
       "                <tr>\n",
       "                                <td id=\"T_a6a46ec6_357c_11ea_8a7c_a45e60d37e95row0_col0\" class=\"data row0 col0\" >183</td>\n",
       "                        <td id=\"T_a6a46ec6_357c_11ea_8a7c_a45e60d37e95row0_col1\" class=\"data row0 col1\" >$3.05</td>\n",
       "                        <td id=\"T_a6a46ec6_357c_11ea_8a7c_a45e60d37e95row0_col2\" class=\"data row0 col2\" >780</td>\n",
       "                        <td id=\"T_a6a46ec6_357c_11ea_8a7c_a45e60d37e95row0_col3\" class=\"data row0 col3\" >$2,379.77</td>\n",
       "            </tr>\n",
       "    </tbody></table>"
      ],
      "text/plain": [
       "<pandas.io.formats.style.Styler at 0x11d4ea850>"
      ]
     },
     "execution_count": 108,
     "metadata": {},
     "output_type": "execute_result"
    }
   ],
   "source": [
    "#Display above findings in dataframe\n",
    "purchasing_analysis_dicts = [{\"Number of Unique Items\": (unique_items),\"Average Price\": (average_price), \"Number of Purchases\": (purchase_number), \"Total Revenue\": (total_revenue)}]\n",
    "purchasing_analysis = pd.DataFrame(purchasing_analysis_dicts)\n",
    "purchasing_analysis\n",
    "\n",
    "#Format dataframe to add dollar signs\n",
    "format_dict = {'Average Price':'${0:,.2f}', 'Total Revenue': '${0:,.2f}'}\n",
    "purchasing_analysis.style.format(format_dict).hide_index()\n"
   ]
  },
  {
   "cell_type": "markdown",
   "metadata": {},
   "source": [
    "* Percentage and Count of Male Players\n",
    "\n",
    "\n",
    "* Percentage and Count of Female Players\n",
    "\n",
    "\n",
    "* Percentage and Count of Other / Non-Disclosed\n",
    "\n",
    "\n"
   ]
  },
  {
   "cell_type": "code",
   "execution_count": 109,
   "metadata": {},
   "outputs": [
    {
     "data": {
      "text/html": [
       "<style  type=\"text/css\" >\n",
       "</style><table id=\"T_a803d57c_357c_11ea_8a7c_a45e60d37e95\" ><thead>    <tr>        <th class=\"col_heading level0 col0\" >Gender</th>        <th class=\"col_heading level0 col1\" >Total Count</th>        <th class=\"col_heading level0 col2\" >Percentage of Players</th>    </tr></thead><tbody>\n",
       "                <tr>\n",
       "                                <td id=\"T_a803d57c_357c_11ea_8a7c_a45e60d37e95row0_col0\" class=\"data row0 col0\" >Male</td>\n",
       "                        <td id=\"T_a803d57c_357c_11ea_8a7c_a45e60d37e95row0_col1\" class=\"data row0 col1\" >484</td>\n",
       "                        <td id=\"T_a803d57c_357c_11ea_8a7c_a45e60d37e95row0_col2\" class=\"data row0 col2\" >84.03%</td>\n",
       "            </tr>\n",
       "            <tr>\n",
       "                                <td id=\"T_a803d57c_357c_11ea_8a7c_a45e60d37e95row1_col0\" class=\"data row1 col0\" >Female</td>\n",
       "                        <td id=\"T_a803d57c_357c_11ea_8a7c_a45e60d37e95row1_col1\" class=\"data row1 col1\" >81</td>\n",
       "                        <td id=\"T_a803d57c_357c_11ea_8a7c_a45e60d37e95row1_col2\" class=\"data row1 col2\" >14.06%</td>\n",
       "            </tr>\n",
       "            <tr>\n",
       "                                <td id=\"T_a803d57c_357c_11ea_8a7c_a45e60d37e95row2_col0\" class=\"data row2 col0\" >Other / Non-Disclosed</td>\n",
       "                        <td id=\"T_a803d57c_357c_11ea_8a7c_a45e60d37e95row2_col1\" class=\"data row2 col1\" >11</td>\n",
       "                        <td id=\"T_a803d57c_357c_11ea_8a7c_a45e60d37e95row2_col2\" class=\"data row2 col2\" >1.91%</td>\n",
       "            </tr>\n",
       "    </tbody></table>"
      ],
      "text/plain": [
       "<pandas.io.formats.style.Styler at 0x11c8d4b90>"
      ]
     },
     "execution_count": 109,
     "metadata": {},
     "output_type": "execute_result"
    }
   ],
   "source": [
    "#Only pull gender count from unique SN's\n",
    "total_count=purchase_data['SN'].nunique()\n",
    "\n",
    "#Count and percentage of males\n",
    "male1= purchase_data.groupby(['Gender']).get_group(('Male'))\n",
    "male2= len(male1['SN'].unique())\n",
    "malePercent=(male2/total_count)\n",
    "\n",
    "#Count and percentage of females\n",
    "female1= purchase_data.groupby(['Gender']).get_group(('Female'))\n",
    "female2= len(female1['SN'].unique())\n",
    "femalePercent=(female2/total_count)\n",
    "\n",
    "#Count and Percentage of Other / Non-Disclosed Players\n",
    "other1= purchase_data.groupby(['Gender']).get_group(('Other / Non-Disclosed'))\n",
    "other2= len(other1['SN'].unique())\n",
    "otherPercent=(other2/total_count)\n",
    "\n",
    "#Create dataframe for gender demographics \n",
    "gender_demographics_table = pd.DataFrame([{\n",
    "    \"Gender\": \"Male\", \"Total Count\": male2, \n",
    "    \"Percentage of Players\": malePercent}, \n",
    "    {\"Gender\": \"Female\", \"Total Count\": female2, \n",
    "     \"Percentage of Players\": femalePercent}, \n",
    "    {\"Gender\": \"Other / Non-Disclosed\", \"Total Count\": other2, \n",
    "     \"Percentage of Players\": otherPercent\n",
    "    }], columns=[\"Gender\", \"Total Count\", \"Percentage of Players\"])\n",
    "gender_demographics_table\n",
    "\n",
    "#Format the table \n",
    "format_dict = {'Percentage of Players':'{:.2%}'}\n",
    "gender_demographics_table.style.format(format_dict).hide_index()\n"
   ]
  },
  {
   "cell_type": "markdown",
   "metadata": {},
   "source": [
    "\n",
    "## Purchasing Analysis (Gender)"
   ]
  },
  {
   "cell_type": "markdown",
   "metadata": {},
   "source": [
    "* Run basic calculations to obtain purchase count, avg. purchase price, avg. purchase total per person etc. by gender\n",
    "* Create a summary data frame to hold the results\n",
    "* Optional: give the displayed data cleaner formatting\n",
    "* Display the summary data frame"
   ]
  },
  {
   "cell_type": "code",
   "execution_count": 110,
   "metadata": {},
   "outputs": [
    {
     "data": {
      "text/html": [
       "<style  type=\"text/css\" >\n",
       "</style><table id=\"T_aa9f60f8_357c_11ea_8a7c_a45e60d37e95\" ><thead>    <tr>        <th class=\"col_heading level0 col0\" >Gender</th>        <th class=\"col_heading level0 col1\" >Purchase Count</th>        <th class=\"col_heading level0 col2\" >Average Purchase Price</th>        <th class=\"col_heading level0 col3\" >Total Purchase Value</th>        <th class=\"col_heading level0 col4\" >Average Total Purchase Per Person</th>    </tr></thead><tbody>\n",
       "                <tr>\n",
       "                                <td id=\"T_aa9f60f8_357c_11ea_8a7c_a45e60d37e95row0_col0\" class=\"data row0 col0\" >Male</td>\n",
       "                        <td id=\"T_aa9f60f8_357c_11ea_8a7c_a45e60d37e95row0_col1\" class=\"data row0 col1\" >652</td>\n",
       "                        <td id=\"T_aa9f60f8_357c_11ea_8a7c_a45e60d37e95row0_col2\" class=\"data row0 col2\" >$3.02</td>\n",
       "                        <td id=\"T_aa9f60f8_357c_11ea_8a7c_a45e60d37e95row0_col3\" class=\"data row0 col3\" >$1,967.64</td>\n",
       "                        <td id=\"T_aa9f60f8_357c_11ea_8a7c_a45e60d37e95row0_col4\" class=\"data row0 col4\" >$4.07</td>\n",
       "            </tr>\n",
       "            <tr>\n",
       "                                <td id=\"T_aa9f60f8_357c_11ea_8a7c_a45e60d37e95row1_col0\" class=\"data row1 col0\" >Female</td>\n",
       "                        <td id=\"T_aa9f60f8_357c_11ea_8a7c_a45e60d37e95row1_col1\" class=\"data row1 col1\" >113</td>\n",
       "                        <td id=\"T_aa9f60f8_357c_11ea_8a7c_a45e60d37e95row1_col2\" class=\"data row1 col2\" >$3.20</td>\n",
       "                        <td id=\"T_aa9f60f8_357c_11ea_8a7c_a45e60d37e95row1_col3\" class=\"data row1 col3\" >$361.94</td>\n",
       "                        <td id=\"T_aa9f60f8_357c_11ea_8a7c_a45e60d37e95row1_col4\" class=\"data row1 col4\" >$4.47</td>\n",
       "            </tr>\n",
       "            <tr>\n",
       "                                <td id=\"T_aa9f60f8_357c_11ea_8a7c_a45e60d37e95row2_col0\" class=\"data row2 col0\" >Other / Non-Disclosed</td>\n",
       "                        <td id=\"T_aa9f60f8_357c_11ea_8a7c_a45e60d37e95row2_col1\" class=\"data row2 col1\" >15</td>\n",
       "                        <td id=\"T_aa9f60f8_357c_11ea_8a7c_a45e60d37e95row2_col2\" class=\"data row2 col2\" >$3.35</td>\n",
       "                        <td id=\"T_aa9f60f8_357c_11ea_8a7c_a45e60d37e95row2_col3\" class=\"data row2 col3\" >$50.19</td>\n",
       "                        <td id=\"T_aa9f60f8_357c_11ea_8a7c_a45e60d37e95row2_col4\" class=\"data row2 col4\" >$4.56</td>\n",
       "            </tr>\n",
       "    </tbody></table>"
      ],
      "text/plain": [
       "<pandas.io.formats.style.Styler at 0x11d4e3ed0>"
      ]
     },
     "execution_count": 110,
     "metadata": {},
     "output_type": "execute_result"
    }
   ],
   "source": [
    "#Purchase Counts\n",
    "malePC=len(male1)\n",
    "femalePC=len(female1)\n",
    "otherPC=len(other1)\n",
    "\n",
    "#Average Purchase Price \n",
    "maleAP=(male1[\"Price\"].sum())/len(male1[\"Price\"])\n",
    "femaleAP=(female1[\"Price\"].sum())/len(female1[\"Price\"])\n",
    "otherAP=(other1[\"Price\"].sum())/len(other1[\"Price\"])\n",
    "\n",
    "#Total purchase value by gender \n",
    "maleTPV=male1[\"Price\"].sum()\n",
    "femaleTPV=female1[\"Price\"].sum()\n",
    "otherTPV=other1[\"Price\"].sum()\n",
    "\n",
    "#Find average total purchase per person\n",
    "maleTPP=(maleTPV/male2)\n",
    "femaleTPP=(femaleTPV/female2)\n",
    "otherTPP=(otherTPV/other2)\n",
    "\n",
    "#Create dataframe for purchasing analysis by gender \n",
    "gender_purchasing_table = pd.DataFrame([{\n",
    "    \"Gender\": \"Male\", \"Purchase Count\": malePC, \n",
    "    \"Average Purchase Price\": maleAP,\"Total Purchase Value\":maleTPV,\"Average Total Purchase Per Person\": maleTPP}, \n",
    "    {\"Gender\": \"Female\", \"Purchase Count\": femalePC, \n",
    "     \"Average Purchase Price\": femaleAP,\"Total Purchase Value\":femaleTPV,\"Average Total Purchase Per Person\": femaleTPP}, \n",
    "    {\"Gender\": \"Other / Non-Disclosed\", \"Purchase Count\": otherPC, \n",
    "     \"Average Purchase Price\": otherAP,\"Total Purchase Value\":otherTPV,\"Average Total Purchase Per Person\": otherTPP\n",
    "    }], columns=[\"Gender\",\"Purchase Count\",\"Average Purchase Price\", \"Total Purchase Value\",\"Average Total Purchase Per Person\",])\n",
    "gender_purchasing_table\n",
    "\n",
    "#Format dataframe\n",
    "format_dict = {'Average Purchase Price':'${0:,.2f}', 'Total Purchase Value': '${0:,.2f}','Average Total Purchase Per Person': '${0:,.2f}'}\n",
    "gender_purchasing_table.style.format(format_dict).hide_index()\n",
    "\n"
   ]
  },
  {
   "cell_type": "markdown",
   "metadata": {},
   "source": [
    "## Age Demographics"
   ]
  },
  {
   "cell_type": "markdown",
   "metadata": {},
   "source": [
    "* Establish bins for ages\n",
    "* Categorize the existing players using the age bins. Hint: use pd.cut()\n",
    "* Calculate the numbers and percentages by age group\n",
    "* Create a summary data frame to hold the results\n",
    "* Optional: round the percentage column to two decimal points\n",
    "* Display Age Demographics Table\n"
   ]
  },
  {
   "cell_type": "code",
   "execution_count": 101,
   "metadata": {},
   "outputs": [
    {
     "name": "stdout",
     "output_type": "stream",
     "text": [
      "7 45\n"
     ]
    }
   ],
   "source": [
    "#Find max and min ages\n",
    "#max_age=purchase_data[\"Age\"].max()\n",
    "#min_age=purchase_data[\"Age\"].min()\n",
    "#print(min_age,max_age)"
   ]
  },
  {
   "cell_type": "code",
   "execution_count": 120,
   "metadata": {},
   "outputs": [
    {
     "data": {
      "text/html": [
       "<div>\n",
       "<style scoped>\n",
       "    .dataframe tbody tr th:only-of-type {\n",
       "        vertical-align: middle;\n",
       "    }\n",
       "\n",
       "    .dataframe tbody tr th {\n",
       "        vertical-align: top;\n",
       "    }\n",
       "\n",
       "    .dataframe thead th {\n",
       "        text-align: right;\n",
       "    }\n",
       "</style>\n",
       "<table border=\"1\" class=\"dataframe\">\n",
       "  <thead>\n",
       "    <tr style=\"text-align: right;\">\n",
       "      <th></th>\n",
       "      <th>Purchase ID</th>\n",
       "      <th>SN</th>\n",
       "      <th>Age</th>\n",
       "      <th>Gender</th>\n",
       "      <th>Item ID</th>\n",
       "      <th>Item Name</th>\n",
       "      <th>Price</th>\n",
       "      <th>Age Group</th>\n",
       "    </tr>\n",
       "  </thead>\n",
       "  <tbody>\n",
       "    <tr>\n",
       "      <td>0</td>\n",
       "      <td>0</td>\n",
       "      <td>Lisim78</td>\n",
       "      <td>20</td>\n",
       "      <td>Male</td>\n",
       "      <td>108</td>\n",
       "      <td>Extraction, Quickblade Of Trembling Hands</td>\n",
       "      <td>3.53</td>\n",
       "      <td>20-24</td>\n",
       "    </tr>\n",
       "    <tr>\n",
       "      <td>1</td>\n",
       "      <td>1</td>\n",
       "      <td>Lisovynya38</td>\n",
       "      <td>40</td>\n",
       "      <td>Male</td>\n",
       "      <td>143</td>\n",
       "      <td>Frenzied Scimitar</td>\n",
       "      <td>1.56</td>\n",
       "      <td>40+</td>\n",
       "    </tr>\n",
       "    <tr>\n",
       "      <td>2</td>\n",
       "      <td>2</td>\n",
       "      <td>Ithergue48</td>\n",
       "      <td>24</td>\n",
       "      <td>Male</td>\n",
       "      <td>92</td>\n",
       "      <td>Final Critic</td>\n",
       "      <td>4.88</td>\n",
       "      <td>20-24</td>\n",
       "    </tr>\n",
       "    <tr>\n",
       "      <td>3</td>\n",
       "      <td>3</td>\n",
       "      <td>Chamassasya86</td>\n",
       "      <td>24</td>\n",
       "      <td>Male</td>\n",
       "      <td>100</td>\n",
       "      <td>Blindscythe</td>\n",
       "      <td>3.27</td>\n",
       "      <td>20-24</td>\n",
       "    </tr>\n",
       "    <tr>\n",
       "      <td>4</td>\n",
       "      <td>4</td>\n",
       "      <td>Iskosia90</td>\n",
       "      <td>23</td>\n",
       "      <td>Male</td>\n",
       "      <td>131</td>\n",
       "      <td>Fury</td>\n",
       "      <td>1.44</td>\n",
       "      <td>20-24</td>\n",
       "    </tr>\n",
       "    <tr>\n",
       "      <td>...</td>\n",
       "      <td>...</td>\n",
       "      <td>...</td>\n",
       "      <td>...</td>\n",
       "      <td>...</td>\n",
       "      <td>...</td>\n",
       "      <td>...</td>\n",
       "      <td>...</td>\n",
       "      <td>...</td>\n",
       "    </tr>\n",
       "    <tr>\n",
       "      <td>775</td>\n",
       "      <td>775</td>\n",
       "      <td>Aethedru70</td>\n",
       "      <td>21</td>\n",
       "      <td>Female</td>\n",
       "      <td>60</td>\n",
       "      <td>Wolf</td>\n",
       "      <td>3.54</td>\n",
       "      <td>20-24</td>\n",
       "    </tr>\n",
       "    <tr>\n",
       "      <td>776</td>\n",
       "      <td>776</td>\n",
       "      <td>Iral74</td>\n",
       "      <td>21</td>\n",
       "      <td>Male</td>\n",
       "      <td>164</td>\n",
       "      <td>Exiled Doomblade</td>\n",
       "      <td>1.63</td>\n",
       "      <td>20-24</td>\n",
       "    </tr>\n",
       "    <tr>\n",
       "      <td>777</td>\n",
       "      <td>777</td>\n",
       "      <td>Yathecal72</td>\n",
       "      <td>20</td>\n",
       "      <td>Male</td>\n",
       "      <td>67</td>\n",
       "      <td>Celeste, Incarnation of the Corrupted</td>\n",
       "      <td>3.46</td>\n",
       "      <td>20-24</td>\n",
       "    </tr>\n",
       "    <tr>\n",
       "      <td>778</td>\n",
       "      <td>778</td>\n",
       "      <td>Sisur91</td>\n",
       "      <td>7</td>\n",
       "      <td>Male</td>\n",
       "      <td>101</td>\n",
       "      <td>Final Critic</td>\n",
       "      <td>4.19</td>\n",
       "      <td>&lt;10</td>\n",
       "    </tr>\n",
       "    <tr>\n",
       "      <td>779</td>\n",
       "      <td>779</td>\n",
       "      <td>Ennrian78</td>\n",
       "      <td>24</td>\n",
       "      <td>Male</td>\n",
       "      <td>50</td>\n",
       "      <td>Dawn</td>\n",
       "      <td>4.60</td>\n",
       "      <td>20-24</td>\n",
       "    </tr>\n",
       "  </tbody>\n",
       "</table>\n",
       "<p>780 rows × 8 columns</p>\n",
       "</div>"
      ],
      "text/plain": [
       "     Purchase ID             SN  Age  Gender  Item ID  \\\n",
       "0              0        Lisim78   20    Male      108   \n",
       "1              1    Lisovynya38   40    Male      143   \n",
       "2              2     Ithergue48   24    Male       92   \n",
       "3              3  Chamassasya86   24    Male      100   \n",
       "4              4      Iskosia90   23    Male      131   \n",
       "..           ...            ...  ...     ...      ...   \n",
       "775          775     Aethedru70   21  Female       60   \n",
       "776          776         Iral74   21    Male      164   \n",
       "777          777     Yathecal72   20    Male       67   \n",
       "778          778        Sisur91    7    Male      101   \n",
       "779          779      Ennrian78   24    Male       50   \n",
       "\n",
       "                                     Item Name  Price Age Group  \n",
       "0    Extraction, Quickblade Of Trembling Hands   3.53     20-24  \n",
       "1                            Frenzied Scimitar   1.56       40+  \n",
       "2                                 Final Critic   4.88     20-24  \n",
       "3                                  Blindscythe   3.27     20-24  \n",
       "4                                         Fury   1.44     20-24  \n",
       "..                                         ...    ...       ...  \n",
       "775                                       Wolf   3.54     20-24  \n",
       "776                           Exiled Doomblade   1.63     20-24  \n",
       "777      Celeste, Incarnation of the Corrupted   3.46     20-24  \n",
       "778                               Final Critic   4.19       <10  \n",
       "779                                       Dawn   4.60     20-24  \n",
       "\n",
       "[780 rows x 8 columns]"
      ]
     },
     "execution_count": 120,
     "metadata": {},
     "output_type": "execute_result"
    }
   ],
   "source": [
    "#Extablish bins for the ages \n",
    "age_bins = [0, 9, 14, 19, 24, 29, 34, 39, 46]\n",
    "bin_names = [\"<10\", \"10-14\", \"15-19\", \"20-24\", \"25-29\", \"30-34\", \"35-39\", \"40+\"]\n",
    "\n",
    "# Place Data Series Into New Column Inside DataFrame\n",
    "purchase_data[\"Age Group\"] = pd.cut(purchase_data[\"Age\"], bins=age_bins, labels=bin_names)\n",
    "purchase_data\n"
   ]
  },
  {
   "cell_type": "code",
   "execution_count": 162,
   "metadata": {},
   "outputs": [
    {
     "data": {
      "text/html": [
       "<style  type=\"text/css\" >\n",
       "</style><table id=\"T_72adbf5c_3584_11ea_8a7c_a45e60d37e95\" ><thead>    <tr>        <th class=\"blank level0\" ></th>        <th class=\"col_heading level0 col0\" >Total Count</th>        <th class=\"col_heading level0 col1\" >Percentage of Players</th>    </tr>    <tr>        <th class=\"index_name level0\" >Age Group</th>        <th class=\"blank\" ></th>        <th class=\"blank\" ></th>    </tr></thead><tbody>\n",
       "                <tr>\n",
       "                        <th id=\"T_72adbf5c_3584_11ea_8a7c_a45e60d37e95level0_row0\" class=\"row_heading level0 row0\" ><10</th>\n",
       "                        <td id=\"T_72adbf5c_3584_11ea_8a7c_a45e60d37e95row0_col0\" class=\"data row0 col0\" >17</td>\n",
       "                        <td id=\"T_72adbf5c_3584_11ea_8a7c_a45e60d37e95row0_col1\" class=\"data row0 col1\" >2.95%</td>\n",
       "            </tr>\n",
       "            <tr>\n",
       "                        <th id=\"T_72adbf5c_3584_11ea_8a7c_a45e60d37e95level0_row1\" class=\"row_heading level0 row1\" >10-14</th>\n",
       "                        <td id=\"T_72adbf5c_3584_11ea_8a7c_a45e60d37e95row1_col0\" class=\"data row1 col0\" >22</td>\n",
       "                        <td id=\"T_72adbf5c_3584_11ea_8a7c_a45e60d37e95row1_col1\" class=\"data row1 col1\" >3.82%</td>\n",
       "            </tr>\n",
       "            <tr>\n",
       "                        <th id=\"T_72adbf5c_3584_11ea_8a7c_a45e60d37e95level0_row2\" class=\"row_heading level0 row2\" >15-19</th>\n",
       "                        <td id=\"T_72adbf5c_3584_11ea_8a7c_a45e60d37e95row2_col0\" class=\"data row2 col0\" >107</td>\n",
       "                        <td id=\"T_72adbf5c_3584_11ea_8a7c_a45e60d37e95row2_col1\" class=\"data row2 col1\" >18.58%</td>\n",
       "            </tr>\n",
       "            <tr>\n",
       "                        <th id=\"T_72adbf5c_3584_11ea_8a7c_a45e60d37e95level0_row3\" class=\"row_heading level0 row3\" >20-24</th>\n",
       "                        <td id=\"T_72adbf5c_3584_11ea_8a7c_a45e60d37e95row3_col0\" class=\"data row3 col0\" >258</td>\n",
       "                        <td id=\"T_72adbf5c_3584_11ea_8a7c_a45e60d37e95row3_col1\" class=\"data row3 col1\" >44.79%</td>\n",
       "            </tr>\n",
       "            <tr>\n",
       "                        <th id=\"T_72adbf5c_3584_11ea_8a7c_a45e60d37e95level0_row4\" class=\"row_heading level0 row4\" >25-29</th>\n",
       "                        <td id=\"T_72adbf5c_3584_11ea_8a7c_a45e60d37e95row4_col0\" class=\"data row4 col0\" >77</td>\n",
       "                        <td id=\"T_72adbf5c_3584_11ea_8a7c_a45e60d37e95row4_col1\" class=\"data row4 col1\" >13.37%</td>\n",
       "            </tr>\n",
       "            <tr>\n",
       "                        <th id=\"T_72adbf5c_3584_11ea_8a7c_a45e60d37e95level0_row5\" class=\"row_heading level0 row5\" >30-34</th>\n",
       "                        <td id=\"T_72adbf5c_3584_11ea_8a7c_a45e60d37e95row5_col0\" class=\"data row5 col0\" >52</td>\n",
       "                        <td id=\"T_72adbf5c_3584_11ea_8a7c_a45e60d37e95row5_col1\" class=\"data row5 col1\" >9.03%</td>\n",
       "            </tr>\n",
       "            <tr>\n",
       "                        <th id=\"T_72adbf5c_3584_11ea_8a7c_a45e60d37e95level0_row6\" class=\"row_heading level0 row6\" >35-39</th>\n",
       "                        <td id=\"T_72adbf5c_3584_11ea_8a7c_a45e60d37e95row6_col0\" class=\"data row6 col0\" >31</td>\n",
       "                        <td id=\"T_72adbf5c_3584_11ea_8a7c_a45e60d37e95row6_col1\" class=\"data row6 col1\" >5.38%</td>\n",
       "            </tr>\n",
       "            <tr>\n",
       "                        <th id=\"T_72adbf5c_3584_11ea_8a7c_a45e60d37e95level0_row7\" class=\"row_heading level0 row7\" >40+</th>\n",
       "                        <td id=\"T_72adbf5c_3584_11ea_8a7c_a45e60d37e95row7_col0\" class=\"data row7 col0\" >12</td>\n",
       "                        <td id=\"T_72adbf5c_3584_11ea_8a7c_a45e60d37e95row7_col1\" class=\"data row7 col1\" >2.08%</td>\n",
       "            </tr>\n",
       "    </tbody></table>"
      ],
      "text/plain": [
       "<pandas.io.formats.style.Styler at 0x11d531d10>"
      ]
     },
     "execution_count": 162,
     "metadata": {},
     "output_type": "execute_result"
    }
   ],
   "source": [
    "# Create a GroupBy Object Based Upon \"Age Group\"\n",
    "age_group = purchase_data.groupby(\"Age Group\")\n",
    "\n",
    "# Count Total Players by Age Category\n",
    "ageTC = age_group[\"SN\"].nunique()\n",
    "\n",
    "# Calculate Percentages by Age Category \n",
    "agePER = (ageTC / total_players)\n",
    "\n",
    "# Create Summary DataFrame\n",
    "age_demographics_table = pd.DataFrame({\n",
    "    \"Total Count\": ageTC, \n",
    "    \"Percentage of Players\": agePER\n",
    "})\n",
    "age_demographics_table\n",
    "\n",
    "#Format the table \n",
    "format_dict = {'Percentage of Players':'{:.2%}'}\n",
    "age_demographics_table.style.format(format_dict)"
   ]
  },
  {
   "cell_type": "markdown",
   "metadata": {},
   "source": [
    "## Purchasing Analysis (Age)"
   ]
  },
  {
   "cell_type": "markdown",
   "metadata": {},
   "source": [
    "* Bin the purchase_data data frame by age\n",
    "\n",
    "\n",
    "* Run basic calculations to obtain purchase count, avg. purchase price, avg. purchase total per person etc. in the table below\n",
    "\n",
    "\n",
    "* Create a summary data frame to hold the results\n",
    "\n",
    "\n",
    "* Optional: give the displayed data cleaner formatting\n",
    "\n",
    "\n",
    "* Display the summary data frame"
   ]
  },
  {
   "cell_type": "code",
   "execution_count": 194,
   "metadata": {},
   "outputs": [
    {
     "data": {
      "text/html": [
       "<style  type=\"text/css\" >\n",
       "</style><table id=\"T_1b059550_35b5_11ea_8a7c_a45e60d37e95\" ><thead>    <tr>        <th class=\"blank level0\" ></th>        <th class=\"col_heading level0 col0\" >Purchase Count</th>        <th class=\"col_heading level0 col1\" >Average Purchase Price</th>        <th class=\"col_heading level0 col2\" >Total Purchase Value</th>        <th class=\"col_heading level0 col3\" >Average Total Purchase per Person</th>    </tr>    <tr>        <th class=\"index_name level0\" >Age Group</th>        <th class=\"blank\" ></th>        <th class=\"blank\" ></th>        <th class=\"blank\" ></th>        <th class=\"blank\" ></th>    </tr></thead><tbody>\n",
       "                <tr>\n",
       "                        <th id=\"T_1b059550_35b5_11ea_8a7c_a45e60d37e95level0_row0\" class=\"row_heading level0 row0\" ><10</th>\n",
       "                        <td id=\"T_1b059550_35b5_11ea_8a7c_a45e60d37e95row0_col0\" class=\"data row0 col0\" >23</td>\n",
       "                        <td id=\"T_1b059550_35b5_11ea_8a7c_a45e60d37e95row0_col1\" class=\"data row0 col1\" >$3.35</td>\n",
       "                        <td id=\"T_1b059550_35b5_11ea_8a7c_a45e60d37e95row0_col2\" class=\"data row0 col2\" >$77.13</td>\n",
       "                        <td id=\"T_1b059550_35b5_11ea_8a7c_a45e60d37e95row0_col3\" class=\"data row0 col3\" >$4.54</td>\n",
       "            </tr>\n",
       "            <tr>\n",
       "                        <th id=\"T_1b059550_35b5_11ea_8a7c_a45e60d37e95level0_row1\" class=\"row_heading level0 row1\" >10-14</th>\n",
       "                        <td id=\"T_1b059550_35b5_11ea_8a7c_a45e60d37e95row1_col0\" class=\"data row1 col0\" >28</td>\n",
       "                        <td id=\"T_1b059550_35b5_11ea_8a7c_a45e60d37e95row1_col1\" class=\"data row1 col1\" >$2.96</td>\n",
       "                        <td id=\"T_1b059550_35b5_11ea_8a7c_a45e60d37e95row1_col2\" class=\"data row1 col2\" >$82.78</td>\n",
       "                        <td id=\"T_1b059550_35b5_11ea_8a7c_a45e60d37e95row1_col3\" class=\"data row1 col3\" >$3.76</td>\n",
       "            </tr>\n",
       "            <tr>\n",
       "                        <th id=\"T_1b059550_35b5_11ea_8a7c_a45e60d37e95level0_row2\" class=\"row_heading level0 row2\" >15-19</th>\n",
       "                        <td id=\"T_1b059550_35b5_11ea_8a7c_a45e60d37e95row2_col0\" class=\"data row2 col0\" >136</td>\n",
       "                        <td id=\"T_1b059550_35b5_11ea_8a7c_a45e60d37e95row2_col1\" class=\"data row2 col1\" >$3.04</td>\n",
       "                        <td id=\"T_1b059550_35b5_11ea_8a7c_a45e60d37e95row2_col2\" class=\"data row2 col2\" >$412.89</td>\n",
       "                        <td id=\"T_1b059550_35b5_11ea_8a7c_a45e60d37e95row2_col3\" class=\"data row2 col3\" >$3.86</td>\n",
       "            </tr>\n",
       "            <tr>\n",
       "                        <th id=\"T_1b059550_35b5_11ea_8a7c_a45e60d37e95level0_row3\" class=\"row_heading level0 row3\" >20-24</th>\n",
       "                        <td id=\"T_1b059550_35b5_11ea_8a7c_a45e60d37e95row3_col0\" class=\"data row3 col0\" >365</td>\n",
       "                        <td id=\"T_1b059550_35b5_11ea_8a7c_a45e60d37e95row3_col1\" class=\"data row3 col1\" >$3.05</td>\n",
       "                        <td id=\"T_1b059550_35b5_11ea_8a7c_a45e60d37e95row3_col2\" class=\"data row3 col2\" >$1,114.06</td>\n",
       "                        <td id=\"T_1b059550_35b5_11ea_8a7c_a45e60d37e95row3_col3\" class=\"data row3 col3\" >$4.32</td>\n",
       "            </tr>\n",
       "            <tr>\n",
       "                        <th id=\"T_1b059550_35b5_11ea_8a7c_a45e60d37e95level0_row4\" class=\"row_heading level0 row4\" >25-29</th>\n",
       "                        <td id=\"T_1b059550_35b5_11ea_8a7c_a45e60d37e95row4_col0\" class=\"data row4 col0\" >101</td>\n",
       "                        <td id=\"T_1b059550_35b5_11ea_8a7c_a45e60d37e95row4_col1\" class=\"data row4 col1\" >$2.90</td>\n",
       "                        <td id=\"T_1b059550_35b5_11ea_8a7c_a45e60d37e95row4_col2\" class=\"data row4 col2\" >$293.00</td>\n",
       "                        <td id=\"T_1b059550_35b5_11ea_8a7c_a45e60d37e95row4_col3\" class=\"data row4 col3\" >$3.81</td>\n",
       "            </tr>\n",
       "            <tr>\n",
       "                        <th id=\"T_1b059550_35b5_11ea_8a7c_a45e60d37e95level0_row5\" class=\"row_heading level0 row5\" >30-34</th>\n",
       "                        <td id=\"T_1b059550_35b5_11ea_8a7c_a45e60d37e95row5_col0\" class=\"data row5 col0\" >73</td>\n",
       "                        <td id=\"T_1b059550_35b5_11ea_8a7c_a45e60d37e95row5_col1\" class=\"data row5 col1\" >$2.93</td>\n",
       "                        <td id=\"T_1b059550_35b5_11ea_8a7c_a45e60d37e95row5_col2\" class=\"data row5 col2\" >$214.00</td>\n",
       "                        <td id=\"T_1b059550_35b5_11ea_8a7c_a45e60d37e95row5_col3\" class=\"data row5 col3\" >$4.12</td>\n",
       "            </tr>\n",
       "            <tr>\n",
       "                        <th id=\"T_1b059550_35b5_11ea_8a7c_a45e60d37e95level0_row6\" class=\"row_heading level0 row6\" >35-39</th>\n",
       "                        <td id=\"T_1b059550_35b5_11ea_8a7c_a45e60d37e95row6_col0\" class=\"data row6 col0\" >41</td>\n",
       "                        <td id=\"T_1b059550_35b5_11ea_8a7c_a45e60d37e95row6_col1\" class=\"data row6 col1\" >$3.60</td>\n",
       "                        <td id=\"T_1b059550_35b5_11ea_8a7c_a45e60d37e95row6_col2\" class=\"data row6 col2\" >$147.67</td>\n",
       "                        <td id=\"T_1b059550_35b5_11ea_8a7c_a45e60d37e95row6_col3\" class=\"data row6 col3\" >$4.76</td>\n",
       "            </tr>\n",
       "            <tr>\n",
       "                        <th id=\"T_1b059550_35b5_11ea_8a7c_a45e60d37e95level0_row7\" class=\"row_heading level0 row7\" >40+</th>\n",
       "                        <td id=\"T_1b059550_35b5_11ea_8a7c_a45e60d37e95row7_col0\" class=\"data row7 col0\" >13</td>\n",
       "                        <td id=\"T_1b059550_35b5_11ea_8a7c_a45e60d37e95row7_col1\" class=\"data row7 col1\" >$2.94</td>\n",
       "                        <td id=\"T_1b059550_35b5_11ea_8a7c_a45e60d37e95row7_col2\" class=\"data row7 col2\" >$38.24</td>\n",
       "                        <td id=\"T_1b059550_35b5_11ea_8a7c_a45e60d37e95row7_col3\" class=\"data row7 col3\" >$3.19</td>\n",
       "            </tr>\n",
       "    </tbody></table>"
      ],
      "text/plain": [
       "<pandas.io.formats.style.Styler at 0x11d511c50>"
      ]
     },
     "execution_count": 194,
     "metadata": {},
     "output_type": "execute_result"
    }
   ],
   "source": [
    "#Use above bins\n",
    "#Find purchase count by age \n",
    "agePC = age_group[\"SN\"].count()\n",
    "agePC\n",
    "\n",
    "# Calculate \"Average Purchase Price\"\n",
    "ageAPP = age_group[\"Price\"].mean()\n",
    "ageAPP\n",
    "\n",
    "## Calculate \"Total Purchase Value\"\n",
    "ageTPV = age_group[\"Price\"].sum()\n",
    "ageTPV\n",
    "\n",
    "# Calculate \"Avg Total Purchase per Person\"\n",
    "ageAvgTPP =(ageTPV/ageTC)\n",
    "ageAvgTPP\n",
    "\n",
    "# Create Summary DataFrame\n",
    "age_purchasing_analysis_table = pd.DataFrame({\n",
    "    \"Purchase Count\": agePC, \n",
    "    \"Average Purchase Price\": ageAPP,\n",
    "    \"Total Purchase Value\": ageTPV,\n",
    "    \"Average Total Purchase per Person\": ageAvgTPP\n",
    "})\n",
    "age_purchasing_analysis_table \n",
    "\n",
    "#Format dataframe\n",
    "format_dict = {'Average Purchase Price':'${0:,.2f}', 'Total Purchase Value': '${0:,.2f}','Average Total Purchase per Person': '${0:,.2f}'}\n",
    "age_purchasing_analysis_table.style.format(format_dict)"
   ]
  },
  {
   "cell_type": "markdown",
   "metadata": {},
   "source": [
    "## Top Spenders"
   ]
  },
  {
   "cell_type": "markdown",
   "metadata": {},
   "source": [
    "* Run basic calculations to obtain the results in the table below\n",
    "\n",
    "\n",
    "* Create a summary data frame to hold the results\n",
    "\n",
    "\n",
    "* Sort the total purchase value column in descending order\n",
    "\n",
    "\n",
    "* Optional: give the displayed data cleaner formatting\n",
    "\n",
    "\n",
    "* Display a preview of the summary data frame\n",
    "\n"
   ]
  },
  {
   "cell_type": "code",
   "execution_count": 195,
   "metadata": {},
   "outputs": [
    {
     "data": {
      "text/html": [
       "<style  type=\"text/css\" >\n",
       "</style><table id=\"T_1b4cb304_35b5_11ea_8a7c_a45e60d37e95\" ><thead>    <tr>        <th class=\"blank level0\" ></th>        <th class=\"col_heading level0 col0\" >Purchase Count</th>        <th class=\"col_heading level0 col1\" >Average Purchase Price</th>        <th class=\"col_heading level0 col2\" >Total Purchase Value</th>    </tr>    <tr>        <th class=\"index_name level0\" >SN</th>        <th class=\"blank\" ></th>        <th class=\"blank\" ></th>        <th class=\"blank\" ></th>    </tr></thead><tbody>\n",
       "                <tr>\n",
       "                        <th id=\"T_1b4cb304_35b5_11ea_8a7c_a45e60d37e95level0_row0\" class=\"row_heading level0 row0\" >Lisosia93</th>\n",
       "                        <td id=\"T_1b4cb304_35b5_11ea_8a7c_a45e60d37e95row0_col0\" class=\"data row0 col0\" >5</td>\n",
       "                        <td id=\"T_1b4cb304_35b5_11ea_8a7c_a45e60d37e95row0_col1\" class=\"data row0 col1\" >$3.79</td>\n",
       "                        <td id=\"T_1b4cb304_35b5_11ea_8a7c_a45e60d37e95row0_col2\" class=\"data row0 col2\" >$18.96</td>\n",
       "            </tr>\n",
       "            <tr>\n",
       "                        <th id=\"T_1b4cb304_35b5_11ea_8a7c_a45e60d37e95level0_row1\" class=\"row_heading level0 row1\" >Idastidru52</th>\n",
       "                        <td id=\"T_1b4cb304_35b5_11ea_8a7c_a45e60d37e95row1_col0\" class=\"data row1 col0\" >4</td>\n",
       "                        <td id=\"T_1b4cb304_35b5_11ea_8a7c_a45e60d37e95row1_col1\" class=\"data row1 col1\" >$3.86</td>\n",
       "                        <td id=\"T_1b4cb304_35b5_11ea_8a7c_a45e60d37e95row1_col2\" class=\"data row1 col2\" >$15.45</td>\n",
       "            </tr>\n",
       "            <tr>\n",
       "                        <th id=\"T_1b4cb304_35b5_11ea_8a7c_a45e60d37e95level0_row2\" class=\"row_heading level0 row2\" >Chamjask73</th>\n",
       "                        <td id=\"T_1b4cb304_35b5_11ea_8a7c_a45e60d37e95row2_col0\" class=\"data row2 col0\" >3</td>\n",
       "                        <td id=\"T_1b4cb304_35b5_11ea_8a7c_a45e60d37e95row2_col1\" class=\"data row2 col1\" >$4.61</td>\n",
       "                        <td id=\"T_1b4cb304_35b5_11ea_8a7c_a45e60d37e95row2_col2\" class=\"data row2 col2\" >$13.83</td>\n",
       "            </tr>\n",
       "            <tr>\n",
       "                        <th id=\"T_1b4cb304_35b5_11ea_8a7c_a45e60d37e95level0_row3\" class=\"row_heading level0 row3\" >Iral74</th>\n",
       "                        <td id=\"T_1b4cb304_35b5_11ea_8a7c_a45e60d37e95row3_col0\" class=\"data row3 col0\" >4</td>\n",
       "                        <td id=\"T_1b4cb304_35b5_11ea_8a7c_a45e60d37e95row3_col1\" class=\"data row3 col1\" >$3.40</td>\n",
       "                        <td id=\"T_1b4cb304_35b5_11ea_8a7c_a45e60d37e95row3_col2\" class=\"data row3 col2\" >$13.62</td>\n",
       "            </tr>\n",
       "            <tr>\n",
       "                        <th id=\"T_1b4cb304_35b5_11ea_8a7c_a45e60d37e95level0_row4\" class=\"row_heading level0 row4\" >Iskadarya95</th>\n",
       "                        <td id=\"T_1b4cb304_35b5_11ea_8a7c_a45e60d37e95row4_col0\" class=\"data row4 col0\" >3</td>\n",
       "                        <td id=\"T_1b4cb304_35b5_11ea_8a7c_a45e60d37e95row4_col1\" class=\"data row4 col1\" >$4.37</td>\n",
       "                        <td id=\"T_1b4cb304_35b5_11ea_8a7c_a45e60d37e95row4_col2\" class=\"data row4 col2\" >$13.10</td>\n",
       "            </tr>\n",
       "    </tbody></table>"
      ],
      "text/plain": [
       "<pandas.io.formats.style.Styler at 0x11d66f610>"
      ]
     },
     "execution_count": 195,
     "metadata": {},
     "output_type": "execute_result"
    }
   ],
   "source": [
    "#Groupby SN\n",
    "top_spenders = purchase_data.groupby(\"SN\")\n",
    "\n",
    "# Calculate \"Purchase Count\" for each screen name\n",
    "spenderPC= top_spenders[\"Purchase ID\"].count()\n",
    "spenderPC\n",
    "\n",
    "#Find Average Purchase Price \n",
    "spenderAPP= top_spenders[\"Price\"].mean()\n",
    "spenderAPP\n",
    "\n",
    "# Calculate \"Total Purchase Value\"\n",
    "spenderTPV = top_spenders[\"Price\"].sum()\n",
    "\n",
    "# Create Summary DataFrame\n",
    "top_spenders_table = pd.DataFrame({ \n",
    "    \"Purchase Count\": spenderPC,\n",
    "    \"Average Purchase Price\": spenderAPP,\n",
    "    \"Total Purchase Value\": spenderTPV\n",
    "})\n",
    "top_spenders_table\n",
    "\n",
    "#Format Dataframe\n",
    "sort_top_spenders = top_spenders_table.sort_values([\"Total Purchase Value\"], ascending=False).head()\n",
    "sort_top_spenders\n",
    "\n",
    "format_dict = {'Average Purchase Price': '${0:,.2f}','Total Purchase Value': '${0:,.2f}'}\n",
    "sort_top_spenders.style.format(format_dict)"
   ]
  },
  {
   "cell_type": "markdown",
   "metadata": {},
   "source": [
    "## Most Popular Items"
   ]
  },
  {
   "cell_type": "markdown",
   "metadata": {},
   "source": [
    "* Retrieve the Item ID, Item Name, and Item Price columns\n",
    "\n",
    "\n",
    "* Group by Item ID and Item Name. Perform calculations to obtain purchase count, item price, and total purchase value\n",
    "\n",
    "\n",
    "* Create a summary data frame to hold the results\n",
    "\n",
    "\n",
    "* Sort the purchase count column in descending order\n",
    "\n",
    "\n",
    "* Optional: give the displayed data cleaner formatting\n",
    "\n",
    "\n",
    "* Display a preview of the summary data frame\n",
    "\n"
   ]
  },
  {
   "cell_type": "code",
   "execution_count": 196,
   "metadata": {},
   "outputs": [
    {
     "data": {
      "text/html": [
       "<style  type=\"text/css\" >\n",
       "</style><table id=\"T_1b8f818e_35b5_11ea_8a7c_a45e60d37e95\" ><thead>    <tr>        <th class=\"blank\" ></th>        <th class=\"blank level0\" ></th>        <th class=\"col_heading level0 col0\" >Purchase Count</th>        <th class=\"col_heading level0 col1\" >Item Price</th>        <th class=\"col_heading level0 col2\" >Total Purchase Value</th>    </tr>    <tr>        <th class=\"index_name level0\" >Item ID</th>        <th class=\"index_name level1\" >Item Name</th>        <th class=\"blank\" ></th>        <th class=\"blank\" ></th>        <th class=\"blank\" ></th>    </tr></thead><tbody>\n",
       "                <tr>\n",
       "                        <th id=\"T_1b8f818e_35b5_11ea_8a7c_a45e60d37e95level0_row0\" class=\"row_heading level0 row0\" >178</th>\n",
       "                        <th id=\"T_1b8f818e_35b5_11ea_8a7c_a45e60d37e95level1_row0\" class=\"row_heading level1 row0\" >Oathbreaker, Last Hope of the Breaking Storm</th>\n",
       "                        <td id=\"T_1b8f818e_35b5_11ea_8a7c_a45e60d37e95row0_col0\" class=\"data row0 col0\" >12</td>\n",
       "                        <td id=\"T_1b8f818e_35b5_11ea_8a7c_a45e60d37e95row0_col1\" class=\"data row0 col1\" >$4.23</td>\n",
       "                        <td id=\"T_1b8f818e_35b5_11ea_8a7c_a45e60d37e95row0_col2\" class=\"data row0 col2\" >$50.76</td>\n",
       "            </tr>\n",
       "            <tr>\n",
       "                        <th id=\"T_1b8f818e_35b5_11ea_8a7c_a45e60d37e95level0_row1\" class=\"row_heading level0 row1\" >145</th>\n",
       "                        <th id=\"T_1b8f818e_35b5_11ea_8a7c_a45e60d37e95level1_row1\" class=\"row_heading level1 row1\" >Fiery Glass Crusader</th>\n",
       "                        <td id=\"T_1b8f818e_35b5_11ea_8a7c_a45e60d37e95row1_col0\" class=\"data row1 col0\" >9</td>\n",
       "                        <td id=\"T_1b8f818e_35b5_11ea_8a7c_a45e60d37e95row1_col1\" class=\"data row1 col1\" >$4.58</td>\n",
       "                        <td id=\"T_1b8f818e_35b5_11ea_8a7c_a45e60d37e95row1_col2\" class=\"data row1 col2\" >$41.22</td>\n",
       "            </tr>\n",
       "            <tr>\n",
       "                        <th id=\"T_1b8f818e_35b5_11ea_8a7c_a45e60d37e95level0_row2\" class=\"row_heading level0 row2\" >108</th>\n",
       "                        <th id=\"T_1b8f818e_35b5_11ea_8a7c_a45e60d37e95level1_row2\" class=\"row_heading level1 row2\" >Extraction, Quickblade Of Trembling Hands</th>\n",
       "                        <td id=\"T_1b8f818e_35b5_11ea_8a7c_a45e60d37e95row2_col0\" class=\"data row2 col0\" >9</td>\n",
       "                        <td id=\"T_1b8f818e_35b5_11ea_8a7c_a45e60d37e95row2_col1\" class=\"data row2 col1\" >$3.53</td>\n",
       "                        <td id=\"T_1b8f818e_35b5_11ea_8a7c_a45e60d37e95row2_col2\" class=\"data row2 col2\" >$31.77</td>\n",
       "            </tr>\n",
       "            <tr>\n",
       "                        <th id=\"T_1b8f818e_35b5_11ea_8a7c_a45e60d37e95level0_row3\" class=\"row_heading level0 row3\" >82</th>\n",
       "                        <th id=\"T_1b8f818e_35b5_11ea_8a7c_a45e60d37e95level1_row3\" class=\"row_heading level1 row3\" >Nirvana</th>\n",
       "                        <td id=\"T_1b8f818e_35b5_11ea_8a7c_a45e60d37e95row3_col0\" class=\"data row3 col0\" >9</td>\n",
       "                        <td id=\"T_1b8f818e_35b5_11ea_8a7c_a45e60d37e95row3_col1\" class=\"data row3 col1\" >$4.90</td>\n",
       "                        <td id=\"T_1b8f818e_35b5_11ea_8a7c_a45e60d37e95row3_col2\" class=\"data row3 col2\" >$44.10</td>\n",
       "            </tr>\n",
       "            <tr>\n",
       "                        <th id=\"T_1b8f818e_35b5_11ea_8a7c_a45e60d37e95level0_row4\" class=\"row_heading level0 row4\" >19</th>\n",
       "                        <th id=\"T_1b8f818e_35b5_11ea_8a7c_a45e60d37e95level1_row4\" class=\"row_heading level1 row4\" >Pursuit, Cudgel of Necromancy</th>\n",
       "                        <td id=\"T_1b8f818e_35b5_11ea_8a7c_a45e60d37e95row4_col0\" class=\"data row4 col0\" >8</td>\n",
       "                        <td id=\"T_1b8f818e_35b5_11ea_8a7c_a45e60d37e95row4_col1\" class=\"data row4 col1\" >$1.02</td>\n",
       "                        <td id=\"T_1b8f818e_35b5_11ea_8a7c_a45e60d37e95row4_col2\" class=\"data row4 col2\" >$8.16</td>\n",
       "            </tr>\n",
       "    </tbody></table>"
      ],
      "text/plain": [
       "<pandas.io.formats.style.Styler at 0x11d785c90>"
      ]
     },
     "execution_count": 196,
     "metadata": {},
     "output_type": "execute_result"
    }
   ],
   "source": [
    "# Identify the 5 Most Popular Items by Creating New DataFrame\n",
    "popular_items_list = purchase_data[[\"Item ID\", \"Item Name\", \"Price\"]]\n",
    "\n",
    "# GroupBy \"Item ID\" & \"Item Name\"\n",
    "popular_items = popular_items_list.groupby([\"Item ID\",\"Item Name\"])\n",
    "\n",
    "# Calculate \"Purchase Count\"\n",
    "item_purchase_count = popular_items[\"Price\"].count()\n",
    "\n",
    "# Calculate \"Item Price\"\n",
    "item_price = popular_items[\"Price\"].sum()\n",
    "\n",
    "# Calculate \"Total Purchase Value\" \n",
    "item_purchase_value = item_price / item_purchase_count\n",
    "\n",
    "# Create Summary DataFrame\n",
    "most_popular_items = pd.DataFrame({\n",
    "    \"Purchase Count\": item_purchase_count, \n",
    "    \"Item Price\": item_purchase_value,\n",
    "    \"Total Purchase Value\": item_price\n",
    "})\n",
    "most_popular_items\n",
    "\n",
    "#Format Dataframe\n",
    "popular_items = most_popular_items.sort_values([\"Purchase Count\"], ascending=False).head()\n",
    "popular_items\n",
    "\n",
    "format_dict = {'Item Price': '${0:,.2f}','Total Purchase Value': '${0:,.2f}'}\n",
    "popular_items.style.format(format_dict)\n",
    "\n"
   ]
  },
  {
   "cell_type": "markdown",
   "metadata": {},
   "source": [
    "## Most Profitable Items"
   ]
  },
  {
   "cell_type": "markdown",
   "metadata": {},
   "source": [
    "* Sort the above table by total purchase value in descending order\n",
    "\n",
    "\n",
    "* Optional: give the displayed data cleaner formatting\n",
    "\n",
    "\n",
    "* Display a preview of the data frame\n",
    "\n"
   ]
  },
  {
   "cell_type": "code",
   "execution_count": 197,
   "metadata": {
    "scrolled": true
   },
   "outputs": [
    {
     "data": {
      "text/html": [
       "<style  type=\"text/css\" >\n",
       "</style><table id=\"T_1c37d460_35b5_11ea_8a7c_a45e60d37e95\" ><thead>    <tr>        <th class=\"blank\" ></th>        <th class=\"blank level0\" ></th>        <th class=\"col_heading level0 col0\" >Purchase Count</th>        <th class=\"col_heading level0 col1\" >Item Price</th>        <th class=\"col_heading level0 col2\" >Total Purchase Value</th>    </tr>    <tr>        <th class=\"index_name level0\" >Item ID</th>        <th class=\"index_name level1\" >Item Name</th>        <th class=\"blank\" ></th>        <th class=\"blank\" ></th>        <th class=\"blank\" ></th>    </tr></thead><tbody>\n",
       "                <tr>\n",
       "                        <th id=\"T_1c37d460_35b5_11ea_8a7c_a45e60d37e95level0_row0\" class=\"row_heading level0 row0\" >178</th>\n",
       "                        <th id=\"T_1c37d460_35b5_11ea_8a7c_a45e60d37e95level1_row0\" class=\"row_heading level1 row0\" >Oathbreaker, Last Hope of the Breaking Storm</th>\n",
       "                        <td id=\"T_1c37d460_35b5_11ea_8a7c_a45e60d37e95row0_col0\" class=\"data row0 col0\" >12</td>\n",
       "                        <td id=\"T_1c37d460_35b5_11ea_8a7c_a45e60d37e95row0_col1\" class=\"data row0 col1\" >$4.23</td>\n",
       "                        <td id=\"T_1c37d460_35b5_11ea_8a7c_a45e60d37e95row0_col2\" class=\"data row0 col2\" >$50.76</td>\n",
       "            </tr>\n",
       "            <tr>\n",
       "                        <th id=\"T_1c37d460_35b5_11ea_8a7c_a45e60d37e95level0_row1\" class=\"row_heading level0 row1\" >82</th>\n",
       "                        <th id=\"T_1c37d460_35b5_11ea_8a7c_a45e60d37e95level1_row1\" class=\"row_heading level1 row1\" >Nirvana</th>\n",
       "                        <td id=\"T_1c37d460_35b5_11ea_8a7c_a45e60d37e95row1_col0\" class=\"data row1 col0\" >9</td>\n",
       "                        <td id=\"T_1c37d460_35b5_11ea_8a7c_a45e60d37e95row1_col1\" class=\"data row1 col1\" >$4.90</td>\n",
       "                        <td id=\"T_1c37d460_35b5_11ea_8a7c_a45e60d37e95row1_col2\" class=\"data row1 col2\" >$44.10</td>\n",
       "            </tr>\n",
       "            <tr>\n",
       "                        <th id=\"T_1c37d460_35b5_11ea_8a7c_a45e60d37e95level0_row2\" class=\"row_heading level0 row2\" >145</th>\n",
       "                        <th id=\"T_1c37d460_35b5_11ea_8a7c_a45e60d37e95level1_row2\" class=\"row_heading level1 row2\" >Fiery Glass Crusader</th>\n",
       "                        <td id=\"T_1c37d460_35b5_11ea_8a7c_a45e60d37e95row2_col0\" class=\"data row2 col0\" >9</td>\n",
       "                        <td id=\"T_1c37d460_35b5_11ea_8a7c_a45e60d37e95row2_col1\" class=\"data row2 col1\" >$4.58</td>\n",
       "                        <td id=\"T_1c37d460_35b5_11ea_8a7c_a45e60d37e95row2_col2\" class=\"data row2 col2\" >$41.22</td>\n",
       "            </tr>\n",
       "            <tr>\n",
       "                        <th id=\"T_1c37d460_35b5_11ea_8a7c_a45e60d37e95level0_row3\" class=\"row_heading level0 row3\" >92</th>\n",
       "                        <th id=\"T_1c37d460_35b5_11ea_8a7c_a45e60d37e95level1_row3\" class=\"row_heading level1 row3\" >Final Critic</th>\n",
       "                        <td id=\"T_1c37d460_35b5_11ea_8a7c_a45e60d37e95row3_col0\" class=\"data row3 col0\" >8</td>\n",
       "                        <td id=\"T_1c37d460_35b5_11ea_8a7c_a45e60d37e95row3_col1\" class=\"data row3 col1\" >$4.88</td>\n",
       "                        <td id=\"T_1c37d460_35b5_11ea_8a7c_a45e60d37e95row3_col2\" class=\"data row3 col2\" >$39.04</td>\n",
       "            </tr>\n",
       "            <tr>\n",
       "                        <th id=\"T_1c37d460_35b5_11ea_8a7c_a45e60d37e95level0_row4\" class=\"row_heading level0 row4\" >103</th>\n",
       "                        <th id=\"T_1c37d460_35b5_11ea_8a7c_a45e60d37e95level1_row4\" class=\"row_heading level1 row4\" >Singed Scalpel</th>\n",
       "                        <td id=\"T_1c37d460_35b5_11ea_8a7c_a45e60d37e95row4_col0\" class=\"data row4 col0\" >8</td>\n",
       "                        <td id=\"T_1c37d460_35b5_11ea_8a7c_a45e60d37e95row4_col1\" class=\"data row4 col1\" >$4.35</td>\n",
       "                        <td id=\"T_1c37d460_35b5_11ea_8a7c_a45e60d37e95row4_col2\" class=\"data row4 col2\" >$34.80</td>\n",
       "            </tr>\n",
       "    </tbody></table>"
      ],
      "text/plain": [
       "<pandas.io.formats.style.Styler at 0x11d66f6d0>"
      ]
     },
     "execution_count": 197,
     "metadata": {},
     "output_type": "execute_result"
    }
   ],
   "source": [
    "#Display most profitable items \n",
    "popular_items = most_popular_items.sort_values([\"Total Purchase Value\"], ascending=False).head()\n",
    "popular_items\n",
    "\n",
    "#Format dataframe\n",
    "format_dict = {'Item Price': '${0:,.2f}','Total Purchase Value': '${0:,.2f}'}\n",
    "popular_items.style.format(format_dict)"
   ]
  },
  {
   "cell_type": "markdown",
   "metadata": {},
   "source": [
    "*Observable Trends \n",
    "*1. The male gender makes up around 84% of total players, however both the female/other-non disclosed spend a higher amount per person. \n",
    "*2. The age demographic (20-24) makes up about 45% of total players with a total purchase value of $1,114.06. This may be due to the fact that this age group mainly consists of college students and recents graduates. They have more free time than their older counter parts, but more purchasing power than than the next largest age group (15-19).\n"
   ]
  },
  {
   "cell_type": "code",
   "execution_count": null,
   "metadata": {},
   "outputs": [],
   "source": []
  }
 ],
 "metadata": {
  "anaconda-cloud": {},
  "kernel_info": {
   "name": "python3"
  },
  "kernelspec": {
   "display_name": "Python 3",
   "language": "python",
   "name": "python3"
  },
  "language_info": {
   "codemirror_mode": {
    "name": "ipython",
    "version": 3
   },
   "file_extension": ".py",
   "mimetype": "text/x-python",
   "name": "python",
   "nbconvert_exporter": "python",
   "pygments_lexer": "ipython3",
   "version": "3.7.4"
  },
  "latex_envs": {
   "LaTeX_envs_menu_present": true,
   "autoclose": false,
   "autocomplete": true,
   "bibliofile": "biblio.bib",
   "cite_by": "apalike",
   "current_citInitial": 1,
   "eqLabelWithNumbers": true,
   "eqNumInitial": 1,
   "hotkeys": {
    "equation": "Ctrl-E",
    "itemize": "Ctrl-I"
   },
   "labels_anchors": false,
   "latex_user_defs": false,
   "report_style_numbering": false,
   "user_envs_cfg": false
  },
  "nteract": {
   "version": "0.2.0"
  }
 },
 "nbformat": 4,
 "nbformat_minor": 2
}
